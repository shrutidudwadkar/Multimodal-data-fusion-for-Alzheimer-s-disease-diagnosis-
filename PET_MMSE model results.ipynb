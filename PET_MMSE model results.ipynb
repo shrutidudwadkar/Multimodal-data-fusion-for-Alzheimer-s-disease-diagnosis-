{
 "cells": [
  {
   "cell_type": "code",
   "execution_count": 1,
   "metadata": {},
   "outputs": [],
   "source": [
    "import sklearn\n",
    "from sklearn.preprocessing import StandardScaler\n",
    "from sklearn.linear_model import Lasso\n",
    "import pandas as pd\n",
    "from sklearn import preprocessing\n",
    "from sklearn.linear_model import SGDClassifier\n",
    "from sklearn.metrics import mean_absolute_error,r2_score\n",
    "from sklearn.model_selection import train_test_split, GridSearchCV\n",
    "import seaborn as sns\n",
    "from sklearn.linear_model import LogisticRegression\n",
    "import numpy as np\n",
    "from sklearn.preprocessing import Normalizer\n",
    "from sklearn.model_selection import RepeatedKFold\n",
    "from sklearn.pipeline import Pipeline\n",
    "import matplotlib.pyplot as plt\n",
    "from sklearn.metrics import mean_squared_error\n",
    "from math import sqrt\n",
    "from sklearn.metrics import roc_auc_score\n",
    "from sklearn.metrics import classification_report\n",
    "from sklearn.feature_selection import SelectKBest\n",
    "from sklearn.feature_selection import chi2\n",
    "from sklearn.svm import SVC\n",
    "from sklearn.tree import DecisionTreeClassifier\n",
    "from sklearn.naive_bayes import GaussianNB\n",
    "from sklearn.ensemble import ExtraTreesClassifier\n",
    "import random\n",
    "from sklearn.feature_selection import SelectKBest\n",
    "from sklearn.feature_selection import chi2\n",
    "\n",
    "# fixing random seed for reproducibility\n",
    "random.seed(200216758)\n",
    "np.random.seed(200216758)"
   ]
  },
  {
   "cell_type": "markdown",
   "metadata": {},
   "source": [
    "### Load the PET+MMSE dataset"
   ]
  },
  {
   "cell_type": "code",
   "execution_count": 2,
   "metadata": {},
   "outputs": [
    {
     "data": {
      "text/html": [
       "<div>\n",
       "<style scoped>\n",
       "    .dataframe tbody tr th:only-of-type {\n",
       "        vertical-align: middle;\n",
       "    }\n",
       "\n",
       "    .dataframe tbody tr th {\n",
       "        vertical-align: top;\n",
       "    }\n",
       "\n",
       "    .dataframe thead th {\n",
       "        text-align: right;\n",
       "    }\n",
       "</style>\n",
       "<table border=\"1\" class=\"dataframe\">\n",
       "  <thead>\n",
       "    <tr style=\"text-align: right;\">\n",
       "      <th></th>\n",
       "      <th>CP_MEAN</th>\n",
       "      <th>CP_MEDIAN</th>\n",
       "      <th>CP_MODE</th>\n",
       "      <th>CP_MIN</th>\n",
       "      <th>CP_MAX</th>\n",
       "      <th>CP_STDEV</th>\n",
       "      <th>AL_MEAN</th>\n",
       "      <th>AL_MEDIAN</th>\n",
       "      <th>AL_MODE</th>\n",
       "      <th>AL_MIN</th>\n",
       "      <th>...</th>\n",
       "      <th>TR_MODE</th>\n",
       "      <th>TR_MIN</th>\n",
       "      <th>TR_MAX</th>\n",
       "      <th>TR_STDEV</th>\n",
       "      <th>MMSCORE_sc</th>\n",
       "      <th>MMSCORE_m06</th>\n",
       "      <th>MMSCORE_m12</th>\n",
       "      <th>MMSCORE_m24</th>\n",
       "      <th>MMSCORE_m36</th>\n",
       "      <th>label</th>\n",
       "    </tr>\n",
       "  </thead>\n",
       "  <tbody>\n",
       "    <tr>\n",
       "      <th>0</th>\n",
       "      <td>1.42132</td>\n",
       "      <td>1.46006</td>\n",
       "      <td>1.010860</td>\n",
       "      <td>1.010860</td>\n",
       "      <td>1.59085</td>\n",
       "      <td>0.135861</td>\n",
       "      <td>1.35493</td>\n",
       "      <td>1.38456</td>\n",
       "      <td>1.062030</td>\n",
       "      <td>1.062030</td>\n",
       "      <td>...</td>\n",
       "      <td>0.965637</td>\n",
       "      <td>0.965637</td>\n",
       "      <td>1.30464</td>\n",
       "      <td>0.068228</td>\n",
       "      <td>29</td>\n",
       "      <td>29</td>\n",
       "      <td>30</td>\n",
       "      <td>29</td>\n",
       "      <td>30</td>\n",
       "      <td>CN</td>\n",
       "    </tr>\n",
       "    <tr>\n",
       "      <th>1</th>\n",
       "      <td>1.35138</td>\n",
       "      <td>1.43394</td>\n",
       "      <td>0.671526</td>\n",
       "      <td>0.671526</td>\n",
       "      <td>1.71550</td>\n",
       "      <td>0.242687</td>\n",
       "      <td>1.22372</td>\n",
       "      <td>1.22393</td>\n",
       "      <td>1.014400</td>\n",
       "      <td>1.014400</td>\n",
       "      <td>...</td>\n",
       "      <td>1.056220</td>\n",
       "      <td>1.056220</td>\n",
       "      <td>1.36527</td>\n",
       "      <td>0.074463</td>\n",
       "      <td>29</td>\n",
       "      <td>29</td>\n",
       "      <td>28</td>\n",
       "      <td>30</td>\n",
       "      <td>29</td>\n",
       "      <td>CN</td>\n",
       "    </tr>\n",
       "    <tr>\n",
       "      <th>2</th>\n",
       "      <td>1.63455</td>\n",
       "      <td>1.64769</td>\n",
       "      <td>1.234410</td>\n",
       "      <td>1.234410</td>\n",
       "      <td>1.86328</td>\n",
       "      <td>0.133708</td>\n",
       "      <td>1.52068</td>\n",
       "      <td>1.52008</td>\n",
       "      <td>1.142760</td>\n",
       "      <td>1.142760</td>\n",
       "      <td>...</td>\n",
       "      <td>0.788854</td>\n",
       "      <td>0.788854</td>\n",
       "      <td>1.37939</td>\n",
       "      <td>0.140904</td>\n",
       "      <td>28</td>\n",
       "      <td>29</td>\n",
       "      <td>30</td>\n",
       "      <td>28</td>\n",
       "      <td>26</td>\n",
       "      <td>CN</td>\n",
       "    </tr>\n",
       "    <tr>\n",
       "      <th>3</th>\n",
       "      <td>1.37415</td>\n",
       "      <td>1.41541</td>\n",
       "      <td>0.926628</td>\n",
       "      <td>0.926628</td>\n",
       "      <td>1.65001</td>\n",
       "      <td>0.164401</td>\n",
       "      <td>1.47392</td>\n",
       "      <td>1.47777</td>\n",
       "      <td>0.997425</td>\n",
       "      <td>0.997425</td>\n",
       "      <td>...</td>\n",
       "      <td>1.022780</td>\n",
       "      <td>1.022780</td>\n",
       "      <td>1.39271</td>\n",
       "      <td>0.081254</td>\n",
       "      <td>30</td>\n",
       "      <td>29</td>\n",
       "      <td>30</td>\n",
       "      <td>29</td>\n",
       "      <td>30</td>\n",
       "      <td>CN</td>\n",
       "    </tr>\n",
       "    <tr>\n",
       "      <th>4</th>\n",
       "      <td>1.43045</td>\n",
       "      <td>1.47362</td>\n",
       "      <td>0.910827</td>\n",
       "      <td>0.910827</td>\n",
       "      <td>1.68188</td>\n",
       "      <td>0.191474</td>\n",
       "      <td>1.37903</td>\n",
       "      <td>1.40453</td>\n",
       "      <td>0.874430</td>\n",
       "      <td>0.874430</td>\n",
       "      <td>...</td>\n",
       "      <td>1.100920</td>\n",
       "      <td>1.100920</td>\n",
       "      <td>1.37395</td>\n",
       "      <td>0.059151</td>\n",
       "      <td>26</td>\n",
       "      <td>28</td>\n",
       "      <td>28</td>\n",
       "      <td>29</td>\n",
       "      <td>28</td>\n",
       "      <td>CN</td>\n",
       "    </tr>\n",
       "  </tbody>\n",
       "</table>\n",
       "<p>5 rows × 36 columns</p>\n",
       "</div>"
      ],
      "text/plain": [
       "   CP_MEAN  CP_MEDIAN   CP_MODE    CP_MIN   CP_MAX  CP_STDEV  AL_MEAN  \\\n",
       "0  1.42132    1.46006  1.010860  1.010860  1.59085  0.135861  1.35493   \n",
       "1  1.35138    1.43394  0.671526  0.671526  1.71550  0.242687  1.22372   \n",
       "2  1.63455    1.64769  1.234410  1.234410  1.86328  0.133708  1.52068   \n",
       "3  1.37415    1.41541  0.926628  0.926628  1.65001  0.164401  1.47392   \n",
       "4  1.43045    1.47362  0.910827  0.910827  1.68188  0.191474  1.37903   \n",
       "\n",
       "   AL_MEDIAN   AL_MODE    AL_MIN  ...   TR_MODE    TR_MIN   TR_MAX  TR_STDEV  \\\n",
       "0    1.38456  1.062030  1.062030  ...  0.965637  0.965637  1.30464  0.068228   \n",
       "1    1.22393  1.014400  1.014400  ...  1.056220  1.056220  1.36527  0.074463   \n",
       "2    1.52008  1.142760  1.142760  ...  0.788854  0.788854  1.37939  0.140904   \n",
       "3    1.47777  0.997425  0.997425  ...  1.022780  1.022780  1.39271  0.081254   \n",
       "4    1.40453  0.874430  0.874430  ...  1.100920  1.100920  1.37395  0.059151   \n",
       "\n",
       "   MMSCORE_sc  MMSCORE_m06  MMSCORE_m12  MMSCORE_m24  MMSCORE_m36  label  \n",
       "0          29           29           30           29           30     CN  \n",
       "1          29           29           28           30           29     CN  \n",
       "2          28           29           30           28           26     CN  \n",
       "3          30           29           30           29           30     CN  \n",
       "4          26           28           28           29           28     CN  \n",
       "\n",
       "[5 rows x 36 columns]"
      ]
     },
     "execution_count": 2,
     "metadata": {},
     "output_type": "execute_result"
    }
   ],
   "source": [
    "pet_data_df = pd.read_csv(\"/Users/shrutidudwadkar/Documents/Dissertation/Final_Data+Code/PET/Processed/pet_mmse.csv\") \n",
    "pet_data_df.drop(columns=['RID'], inplace=True)\n",
    "\n",
    "pet_data_df.head()"
   ]
  },
  {
   "cell_type": "code",
   "execution_count": 3,
   "metadata": {},
   "outputs": [
    {
     "name": "stdout",
     "output_type": "stream",
     "text": [
      "There are total  35  features. \n",
      "\n"
     ]
    }
   ],
   "source": [
    "pet_features = pet_data_df.columns.values.tolist()\n",
    "print(\"There are total \", len(pet_features)-1, \" features. \\n\")"
   ]
  },
  {
   "cell_type": "markdown",
   "metadata": {},
   "source": [
    "### Distribution of subjects across 3 labels"
   ]
  },
  {
   "cell_type": "code",
   "execution_count": 4,
   "metadata": {},
   "outputs": [
    {
     "data": {
      "image/png": "[encoded data removed]",
      "text/plain": [
       "<Figure size 432x288 with 1 Axes>"
      ]
     },
     "metadata": {
      "needs_background": "light"
     },
     "output_type": "display_data"
    }
   ],
   "source": [
    "graph = sns.countplot(x=\"label\", data=pet_data_df);\n",
    "for p in graph.patches: \n",
    "    height = p.get_height()\n",
    "    graph.text(p.get_x() + p.get_width()/2., height + 0.2, height, ha=\"center\")\n"
   ]
  },
  {
   "cell_type": "code",
   "execution_count": 5,
   "metadata": {},
   "outputs": [],
   "source": [
    "encoder = preprocessing.LabelEncoder()\n",
    "pet_data_df['label']= encoder.fit_transform(pet_data_df['label'])\n",
    "pet_data_df['label'].unique()\n",
    "pet_data_df.head()\n",
    "pet_data_df_fi =pet_data_df"
   ]
  },
  {
   "cell_type": "markdown",
   "metadata": {},
   "source": [
    "### Feature selction using Univariate Selection"
   ]
  },
  {
   "cell_type": "code",
   "execution_count": 6,
   "metadata": {},
   "outputs": [],
   "source": [
    "X = pet_data_df.iloc[:,0:35]\n",
    "y = pet_data_df.iloc[:,-1]  "
   ]
  },
  {
   "cell_type": "code",
   "execution_count": 7,
   "metadata": {},
   "outputs": [],
   "source": [
    "bestfeatures = SelectKBest(score_func=chi2, k=14)\n",
    "fit = bestfeatures.fit(X, y)\n",
    "dfscores = pd.DataFrame(fit.scores_)"
   ]
  },
  {
   "cell_type": "code",
   "execution_count": 8,
   "metadata": {},
   "outputs": [
    {
     "name": "stdout",
     "output_type": "stream",
     "text": [
      "          Specs      Score\n",
      "34  MMSCORE_m36  59.133971\n",
      "33  MMSCORE_m24  38.577862\n",
      "32  MMSCORE_m12  16.494915\n",
      "31  MMSCORE_m06  11.221813\n",
      "30   MMSCORE_sc   4.554861\n",
      "4        CP_MAX   1.216650\n",
      "1     CP_MEDIAN   1.054037\n",
      "0       CP_MEAN   1.009330\n",
      "10       AL_MAX   0.914336\n",
      "7     AL_MEDIAN   0.740034\n"
     ]
    }
   ],
   "source": [
    "dfcolumns = pd.DataFrame(X.columns)\n",
    "# concat two df for visualization \n",
    "featureScores = pd.concat([dfcolumns, dfscores], axis=1)\n",
    "featureScores.columns = ['Specs','Score'] \n",
    "#print top 10 features\n",
    "print(featureScores.nlargest(10,'Score'))  "
   ]
  },
  {
   "cell_type": "code",
   "execution_count": 9,
   "metadata": {},
   "outputs": [
    {
     "data": {
      "text/html": [
       "<div>\n",
       "<style scoped>\n",
       "    .dataframe tbody tr th:only-of-type {\n",
       "        vertical-align: middle;\n",
       "    }\n",
       "\n",
       "    .dataframe tbody tr th {\n",
       "        vertical-align: top;\n",
       "    }\n",
       "\n",
       "    .dataframe thead th {\n",
       "        text-align: right;\n",
       "    }\n",
       "</style>\n",
       "<table border=\"1\" class=\"dataframe\">\n",
       "  <thead>\n",
       "    <tr style=\"text-align: right;\">\n",
       "      <th></th>\n",
       "      <th>MMSCORE_m36</th>\n",
       "      <th>MMSCORE_m24</th>\n",
       "      <th>MMSCORE_m12</th>\n",
       "      <th>MMSCORE_m06</th>\n",
       "      <th>MMSCORE_sc</th>\n",
       "      <th>CP_MAX</th>\n",
       "      <th>CP_MEDIAN</th>\n",
       "      <th>CP_MEAN</th>\n",
       "      <th>AL_MAX</th>\n",
       "      <th>AL_MEDIAN</th>\n",
       "      <th>label</th>\n",
       "    </tr>\n",
       "  </thead>\n",
       "  <tbody>\n",
       "    <tr>\n",
       "      <th>0</th>\n",
       "      <td>30</td>\n",
       "      <td>29</td>\n",
       "      <td>30</td>\n",
       "      <td>29</td>\n",
       "      <td>29</td>\n",
       "      <td>1.59085</td>\n",
       "      <td>1.46006</td>\n",
       "      <td>1.42132</td>\n",
       "      <td>1.48234</td>\n",
       "      <td>1.38456</td>\n",
       "      <td>0</td>\n",
       "    </tr>\n",
       "    <tr>\n",
       "      <th>1</th>\n",
       "      <td>29</td>\n",
       "      <td>30</td>\n",
       "      <td>28</td>\n",
       "      <td>29</td>\n",
       "      <td>29</td>\n",
       "      <td>1.71550</td>\n",
       "      <td>1.43394</td>\n",
       "      <td>1.35138</td>\n",
       "      <td>1.39319</td>\n",
       "      <td>1.22393</td>\n",
       "      <td>0</td>\n",
       "    </tr>\n",
       "    <tr>\n",
       "      <th>2</th>\n",
       "      <td>26</td>\n",
       "      <td>28</td>\n",
       "      <td>30</td>\n",
       "      <td>29</td>\n",
       "      <td>28</td>\n",
       "      <td>1.86328</td>\n",
       "      <td>1.64769</td>\n",
       "      <td>1.63455</td>\n",
       "      <td>1.71677</td>\n",
       "      <td>1.52008</td>\n",
       "      <td>0</td>\n",
       "    </tr>\n",
       "    <tr>\n",
       "      <th>3</th>\n",
       "      <td>30</td>\n",
       "      <td>29</td>\n",
       "      <td>30</td>\n",
       "      <td>29</td>\n",
       "      <td>30</td>\n",
       "      <td>1.65001</td>\n",
       "      <td>1.41541</td>\n",
       "      <td>1.37415</td>\n",
       "      <td>1.67836</td>\n",
       "      <td>1.47777</td>\n",
       "      <td>0</td>\n",
       "    </tr>\n",
       "    <tr>\n",
       "      <th>4</th>\n",
       "      <td>28</td>\n",
       "      <td>29</td>\n",
       "      <td>28</td>\n",
       "      <td>28</td>\n",
       "      <td>26</td>\n",
       "      <td>1.68188</td>\n",
       "      <td>1.47362</td>\n",
       "      <td>1.43045</td>\n",
       "      <td>1.55640</td>\n",
       "      <td>1.40453</td>\n",
       "      <td>0</td>\n",
       "    </tr>\n",
       "  </tbody>\n",
       "</table>\n",
       "</div>"
      ],
      "text/plain": [
       "   MMSCORE_m36  MMSCORE_m24  MMSCORE_m12  MMSCORE_m06  MMSCORE_sc   CP_MAX  \\\n",
       "0           30           29           30           29          29  1.59085   \n",
       "1           29           30           28           29          29  1.71550   \n",
       "2           26           28           30           29          28  1.86328   \n",
       "3           30           29           30           29          30  1.65001   \n",
       "4           28           29           28           28          26  1.68188   \n",
       "\n",
       "   CP_MEDIAN  CP_MEAN   AL_MAX  AL_MEDIAN  label  \n",
       "0    1.46006  1.42132  1.48234    1.38456      0  \n",
       "1    1.43394  1.35138  1.39319    1.22393      0  \n",
       "2    1.64769  1.63455  1.71677    1.52008      0  \n",
       "3    1.41541  1.37415  1.67836    1.47777      0  \n",
       "4    1.47362  1.43045  1.55640    1.40453      0  "
      ]
     },
     "execution_count": 9,
     "metadata": {},
     "output_type": "execute_result"
    }
   ],
   "source": [
    "columns = featureScores.nlargest(10,'Score')['Specs'].tolist()\n",
    "columns.append('label')\n",
    "pet_data_df = pet_data_df[columns]\n",
    "pet_data_df.head()"
   ]
  },
  {
   "cell_type": "code",
   "execution_count": 10,
   "metadata": {},
   "outputs": [],
   "source": [
    "X_pet, y_pet = np.split(pet_data_df.to_numpy(), [-1], axis=1) "
   ]
  },
  {
   "cell_type": "markdown",
   "metadata": {},
   "source": [
    "### Split the dataset into train and test data using 85:15 split"
   ]
  },
  {
   "cell_type": "code",
   "execution_count": 11,
   "metadata": {},
   "outputs": [],
   "source": [
    "X_train_pet, X_test_pet, y_train_pet, y_test_pet = train_test_split(X_pet, y_pet, test_size=0.15, random_state=44)\n"
   ]
  },
  {
   "cell_type": "markdown",
   "metadata": {},
   "source": [
    "### Scaling"
   ]
  },
  {
   "cell_type": "code",
   "execution_count": 12,
   "metadata": {},
   "outputs": [],
   "source": [
    "min_max_scaler = preprocessing.MinMaxScaler()\n",
    "X_train_pet = min_max_scaler.fit_transform(X_train_pet)\n",
    "X_test_pet = min_max_scaler.transform(X_test_pet)"
   ]
  },
  {
   "cell_type": "markdown",
   "metadata": {},
   "source": [
    "### SVM Classifier"
   ]
  },
  {
   "cell_type": "code",
   "execution_count": 13,
   "metadata": {},
   "outputs": [
    {
     "name": "stdout",
     "output_type": "stream",
     "text": [
      "Classification report: \n",
      "              precision    recall  f1-score   support\n",
      "\n",
      "         0.0       0.50      0.90      0.64        10\n",
      "         1.0       0.75      1.00      0.86         6\n",
      "         2.0       0.83      0.31      0.45        16\n",
      "\n",
      "    accuracy                           0.62        32\n",
      "   macro avg       0.69      0.74      0.65        32\n",
      "weighted avg       0.71      0.62      0.59        32\n",
      "\n"
     ]
    },
    {
     "name": "stderr",
     "output_type": "stream",
     "text": [
      "/Users/shrutidudwadkar/opt/anaconda3/lib/python3.8/site-packages/sklearn/utils/validation.py:73: DataConversionWarning: A column-vector y was passed when a 1d array was expected. Please change the shape of y to (n_samples, ), for example using ravel().\n",
      "  return f(**kwargs)\n"
     ]
    }
   ],
   "source": [
    "svm_model_linear = SVC(kernel = 'linear', C = 1).fit(X_train_pet, y_train_pet)\n",
    "svm_predictions = svm_model_linear.predict(X_test_pet)\n",
    "\n",
    "print(\"Classification report: \")\n",
    "print(classification_report(y_test_pet , svm_predictions))"
   ]
  },
  {
   "cell_type": "code",
   "execution_count": 14,
   "metadata": {},
   "outputs": [
    {
     "name": "stdout",
     "output_type": "stream",
     "text": [
      "RMSE:  1.14564392373896\n"
     ]
    }
   ],
   "source": [
    "rmse = sqrt(mean_squared_error(y_test_pet , svm_predictions))\n",
    "print(\"RMSE: \", rmse)"
   ]
  },
  {
   "cell_type": "markdown",
   "metadata": {},
   "source": [
    "### Decision Tree Classifier"
   ]
  },
  {
   "cell_type": "code",
   "execution_count": 15,
   "metadata": {},
   "outputs": [
    {
     "name": "stdout",
     "output_type": "stream",
     "text": [
      "Classification report: \n",
      "              precision    recall  f1-score   support\n",
      "\n",
      "         0.0       0.57      0.80      0.67        10\n",
      "         1.0       0.46      1.00      0.63         6\n",
      "         2.0       0.80      0.25      0.38        16\n",
      "\n",
      "    accuracy                           0.56        32\n",
      "   macro avg       0.61      0.68      0.56        32\n",
      "weighted avg       0.67      0.56      0.52        32\n",
      "\n"
     ]
    }
   ],
   "source": [
    "dtree_model = DecisionTreeClassifier(max_depth = 2)\n",
    "dtree_model.fit(X_train_pet, y_train_pet)\n",
    "dtree_predictions = dtree_model.predict(X_test_pet)\n",
    "\n",
    "print(\"Classification report: \")\n",
    "print(classification_report(y_test_pet , dtree_predictions))"
   ]
  },
  {
   "cell_type": "code",
   "execution_count": 16,
   "metadata": {},
   "outputs": [
    {
     "name": "stdout",
     "output_type": "stream",
     "text": [
      "AUC:  0.7695021124708624\n"
     ]
    }
   ],
   "source": [
    "auc = roc_auc_score(y_test_pet, dtree_model.predict_proba(X_test_pet), multi_class='ovr')\n",
    "print(\"AUC: \", auc)"
   ]
  },
  {
   "cell_type": "code",
   "execution_count": 17,
   "metadata": {},
   "outputs": [
    {
     "name": "stdout",
     "output_type": "stream",
     "text": [
      "RMSE:  1.0458250331675945\n"
     ]
    }
   ],
   "source": [
    "rmse = sqrt(mean_squared_error(y_test_pet , dtree_predictions))\n",
    "print(\"RMSE: \", rmse)"
   ]
  },
  {
   "cell_type": "markdown",
   "metadata": {},
   "source": [
    "### Gaussian NB Classifier"
   ]
  },
  {
   "cell_type": "code",
   "execution_count": 18,
   "metadata": {},
   "outputs": [
    {
     "name": "stdout",
     "output_type": "stream",
     "text": [
      "Classification report: \n",
      "              precision    recall  f1-score   support\n",
      "\n",
      "         0.0       0.62      0.80      0.70        10\n",
      "         1.0       0.75      1.00      0.86         6\n",
      "         2.0       0.82      0.56      0.67        16\n",
      "\n",
      "    accuracy                           0.72        32\n",
      "   macro avg       0.73      0.79      0.74        32\n",
      "weighted avg       0.74      0.72      0.71        32\n",
      "\n"
     ]
    },
    {
     "name": "stderr",
     "output_type": "stream",
     "text": [
      "/Users/shrutidudwadkar/opt/anaconda3/lib/python3.8/site-packages/sklearn/utils/validation.py:73: DataConversionWarning: A column-vector y was passed when a 1d array was expected. Please change the shape of y to (n_samples, ), for example using ravel().\n",
      "  return f(**kwargs)\n"
     ]
    }
   ],
   "source": [
    "gnb = GaussianNB()\n",
    "gnb.fit(X_train_pet, y_train_pet)\n",
    "gnb_predictions = gnb.predict(X_test_pet)\n",
    "\n",
    "print(\"Classification report: \")\n",
    "print(classification_report(y_test_pet , gnb_predictions))"
   ]
  },
  {
   "cell_type": "code",
   "execution_count": 19,
   "metadata": {},
   "outputs": [
    {
     "name": "stdout",
     "output_type": "stream",
     "text": [
      "AUC:  0.8352497329059828\n"
     ]
    }
   ],
   "source": [
    "auc = roc_auc_score(y_test_pet, gnb.predict_proba(X_test_pet), multi_class='ovr')\n",
    "print(\"AUC: \", auc)"
   ]
  },
  {
   "cell_type": "code",
   "execution_count": 20,
   "metadata": {},
   "outputs": [
    {
     "name": "stdout",
     "output_type": "stream",
     "text": [
      "RMSE:  0.9682458365518543\n"
     ]
    }
   ],
   "source": [
    "rmse = sqrt(mean_squared_error(y_test_pet , gnb_predictions))\n",
    "print(\"RMSE: \", rmse)"
   ]
  },
  {
   "cell_type": "markdown",
   "metadata": {},
   "source": [
    "## Model Results\n",
    "### Univariate Selection on PET + MMSE dataset\n",
    "\n",
    "| Model | Precision  | Recall  | F1-Score  | Accuracy \n",
    "|:-:|:-:|:-:|:-:|:-:|\n",
    "| SVM Classifier  | 0.69 | 0.74  | 0.65  | 0.62  |\n",
    "| Decision Tree Classifier  | 0.61 | 0.68 | 0.56 | 0.56 |\n",
    "| Gaussian NB Classifier  | **0.73** | **0.79**  | **0.74**  | **0.72**  |\n"
   ]
  }
 ],
 "metadata": {
  "kernelspec": {
   "display_name": "Python 3",
   "language": "python",
   "name": "python3"
  },
  "language_info": {
   "codemirror_mode": {
    "name": "ipython",
    "version": 3
   },
   "file_extension": ".py",
   "mimetype": "text/x-python",
   "name": "python",
   "nbconvert_exporter": "python",
   "pygments_lexer": "ipython3",
   "version": "3.8.3"
  }
 },
 "nbformat": 4,
 "nbformat_minor": 4
}
